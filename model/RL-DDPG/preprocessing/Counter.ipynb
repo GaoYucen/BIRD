{
 "cells": [
  {
   "cell_type": "code",
   "execution_count": 44,
   "id": "6774950d",
   "metadata": {},
   "outputs": [],
   "source": [
    "import pandas as pd\n",
    "import pickle"
   ]
  },
  {
   "cell_type": "code",
   "execution_count": 45,
   "id": "fa331b7f",
   "metadata": {},
   "outputs": [
    {
     "data": {
      "text/html": [
       "<div>\n",
       "<style scoped>\n",
       "    .dataframe tbody tr th:only-of-type {\n",
       "        vertical-align: middle;\n",
       "    }\n",
       "\n",
       "    .dataframe tbody tr th {\n",
       "        vertical-align: top;\n",
       "    }\n",
       "\n",
       "    .dataframe thead th {\n",
       "        text-align: right;\n",
       "    }\n",
       "</style>\n",
       "<table border=\"1\" class=\"dataframe\">\n",
       "  <thead>\n",
       "    <tr style=\"text-align: right;\">\n",
       "      <th></th>\n",
       "      <th>WBL_NUM</th>\n",
       "      <th>WBL_CNTR_UUID</th>\n",
       "      <th>SEQ_NUM</th>\n",
       "      <th>POL_CDE</th>\n",
       "      <th>POL_NME</th>\n",
       "      <th>POL_FCIL_CDE</th>\n",
       "      <th>POL_FCIL_NME</th>\n",
       "      <th>POD_CDE</th>\n",
       "      <th>POD_NME</th>\n",
       "      <th>POD_FCIL_CDE</th>\n",
       "      <th>POD_FCIL_NME</th>\n",
       "      <th>TRANS_TYPE</th>\n",
       "    </tr>\n",
       "  </thead>\n",
       "  <tbody>\n",
       "    <tr>\n",
       "      <th>0</th>\n",
       "      <td>Q015065530</td>\n",
       "      <td>b0c627e57dcb45c3a38a5304382a3ad3</td>\n",
       "      <td>1</td>\n",
       "      <td>YIK</td>\n",
       "      <td>营口</td>\n",
       "      <td>YIK01</td>\n",
       "      <td>营口中远集装箱码头</td>\n",
       "      <td>QZH</td>\n",
       "      <td>钦州</td>\n",
       "      <td>QZH02</td>\n",
       "      <td>钦州02</td>\n",
       "      <td>TRUNK</td>\n",
       "    </tr>\n",
       "    <tr>\n",
       "      <th>1</th>\n",
       "      <td>Q015065530</td>\n",
       "      <td>9617d23614924cbe9755a9ea81d08632</td>\n",
       "      <td>1</td>\n",
       "      <td>YIK</td>\n",
       "      <td>营口</td>\n",
       "      <td>YIK01</td>\n",
       "      <td>营口中远集装箱码头</td>\n",
       "      <td>QZH</td>\n",
       "      <td>钦州</td>\n",
       "      <td>QZH02</td>\n",
       "      <td>钦州02</td>\n",
       "      <td>TRUNK</td>\n",
       "    </tr>\n",
       "    <tr>\n",
       "      <th>2</th>\n",
       "      <td>Q015065800</td>\n",
       "      <td>5eef562bc26144e99c6e3ba584c5ae9f</td>\n",
       "      <td>1</td>\n",
       "      <td>YIK</td>\n",
       "      <td>营口</td>\n",
       "      <td>YIK05</td>\n",
       "      <td>营口港务集团码头</td>\n",
       "      <td>QZH</td>\n",
       "      <td>钦州</td>\n",
       "      <td>QZH02</td>\n",
       "      <td>钦州02</td>\n",
       "      <td>TRUNK</td>\n",
       "    </tr>\n",
       "    <tr>\n",
       "      <th>3</th>\n",
       "      <td>Q015065800</td>\n",
       "      <td>5eef562bc26144e99c6e3ba584c5ae9f</td>\n",
       "      <td>2</td>\n",
       "      <td>QZH</td>\n",
       "      <td>钦州</td>\n",
       "      <td>QZH02</td>\n",
       "      <td>钦州02</td>\n",
       "      <td>TIE</td>\n",
       "      <td>铁山</td>\n",
       "      <td>TIE02</td>\n",
       "      <td>铁山港</td>\n",
       "      <td>FEEDER</td>\n",
       "    </tr>\n",
       "    <tr>\n",
       "      <th>4</th>\n",
       "      <td>Q015065800</td>\n",
       "      <td>a32a2e895c17457896033b0d32b957ae</td>\n",
       "      <td>1</td>\n",
       "      <td>YIK</td>\n",
       "      <td>营口</td>\n",
       "      <td>YIK05</td>\n",
       "      <td>营口港务集团码头</td>\n",
       "      <td>QZH</td>\n",
       "      <td>钦州</td>\n",
       "      <td>QZH02</td>\n",
       "      <td>钦州02</td>\n",
       "      <td>TRUNK</td>\n",
       "    </tr>\n",
       "  </tbody>\n",
       "</table>\n",
       "</div>"
      ],
      "text/plain": [
       "      WBL_NUM                     WBL_CNTR_UUID  SEQ_NUM POL_CDE POL_NME  \\\n",
       "0  Q015065530  b0c627e57dcb45c3a38a5304382a3ad3        1     YIK      营口   \n",
       "1  Q015065530  9617d23614924cbe9755a9ea81d08632        1     YIK      营口   \n",
       "2  Q015065800  5eef562bc26144e99c6e3ba584c5ae9f        1     YIK      营口   \n",
       "3  Q015065800  5eef562bc26144e99c6e3ba584c5ae9f        2     QZH      钦州   \n",
       "4  Q015065800  a32a2e895c17457896033b0d32b957ae        1     YIK      营口   \n",
       "\n",
       "  POL_FCIL_CDE POL_FCIL_NME POD_CDE POD_NME POD_FCIL_CDE POD_FCIL_NME  \\\n",
       "0        YIK01    营口中远集装箱码头     QZH      钦州        QZH02         钦州02   \n",
       "1        YIK01    营口中远集装箱码头     QZH      钦州        QZH02         钦州02   \n",
       "2        YIK05     营口港务集团码头     QZH      钦州        QZH02         钦州02   \n",
       "3        QZH02         钦州02     TIE      铁山        TIE02          铁山港   \n",
       "4        YIK05     营口港务集团码头     QZH      钦州        QZH02         钦州02   \n",
       "\n",
       "  TRANS_TYPE  \n",
       "0      TRUNK  \n",
       "1      TRUNK  \n",
       "2      TRUNK  \n",
       "3     FEEDER  \n",
       "4      TRUNK  "
      ]
     },
     "execution_count": 45,
     "metadata": {},
     "output_type": "execute_result"
    }
   ],
   "source": [
    "df = pd.read_excel('YIK_QZH_CNTR_LEG.xlsx')\n",
    "df.head()"
   ]
  },
  {
   "cell_type": "code",
   "execution_count": 46,
   "id": "d08796f5",
   "metadata": {},
   "outputs": [],
   "source": [
    "wbl_dict = {}\n",
    "\n",
    "for index, row in df.iterrows():\n",
    "    wbl_num = row[\"WBL_NUM\"]\n",
    "    wbl_cntr_num = row[\"WBL_CNTR_UUID\"]\n",
    "    count = 0\n",
    "    if (wbl_num in wbl_dict):\n",
    "        if (wbl_cntr_num not in wbl_dict[wbl_num]):\n",
    "            wbl_dict[wbl_num].add(wbl_cntr_num)\n",
    "    else:\n",
    "        wbl_dict[wbl_num] = set()\n",
    "        wbl_dict[wbl_num].add(wbl_cntr_num)"
   ]
  },
  {
   "cell_type": "code",
   "execution_count": 47,
   "id": "5718644f",
   "metadata": {},
   "outputs": [],
   "source": [
    "count_dict = {}\n",
    "for sets in wbl_dict.values():\n",
    "    if len(sets) not in count_dict:\n",
    "        count_dict[len(sets)]  = 1\n",
    "    else:\n",
    "        count_dict[len(sets)] += 1"
   ]
  },
  {
   "cell_type": "code",
   "execution_count": 52,
   "id": "7494ffc2",
   "metadata": {},
   "outputs": [],
   "source": [
    "!touch num_count.pkl"
   ]
  },
  {
   "cell_type": "code",
   "execution_count": 54,
   "id": "77092d3e",
   "metadata": {},
   "outputs": [],
   "source": [
    "with open('./num_count.pkl', 'wb') as file:\n",
    "    pickle.dump(count_dict, file)"
   ]
  },
  {
   "cell_type": "code",
   "execution_count": 57,
   "id": "5f0b0f85",
   "metadata": {},
   "outputs": [
    {
     "ename": "UnsupportedOperation",
     "evalue": "read",
     "output_type": "error",
     "traceback": [
      "\u001b[0;31m---------------------------------------------------------------------------\u001b[0m",
      "\u001b[0;31mUnsupportedOperation\u001b[0m                      Traceback (most recent call last)",
      "\u001b[0;32m<ipython-input-57-8f42b59b385c>\u001b[0m in \u001b[0;36m<module>\u001b[0;34m\u001b[0m\n\u001b[1;32m      1\u001b[0m \u001b[0;32mwith\u001b[0m \u001b[0mopen\u001b[0m\u001b[0;34m(\u001b[0m\u001b[0;34m'./num_count.pkl'\u001b[0m\u001b[0;34m,\u001b[0m \u001b[0;34m'wb'\u001b[0m\u001b[0;34m)\u001b[0m \u001b[0;32mas\u001b[0m \u001b[0mfile\u001b[0m\u001b[0;34m:\u001b[0m\u001b[0;34m\u001b[0m\u001b[0;34m\u001b[0m\u001b[0m\n\u001b[0;32m----> 2\u001b[0;31m     \u001b[0ma\u001b[0m \u001b[0;34m=\u001b[0m \u001b[0mpickle\u001b[0m\u001b[0;34m.\u001b[0m\u001b[0mload\u001b[0m\u001b[0;34m(\u001b[0m\u001b[0mfile\u001b[0m\u001b[0;34m)\u001b[0m\u001b[0;34m\u001b[0m\u001b[0;34m\u001b[0m\u001b[0m\n\u001b[0m",
      "\u001b[0;31mUnsupportedOperation\u001b[0m: read"
     ]
    }
   ],
   "source": [
    "with open('./num_count.pkl', 'wb') as file:\n",
    "    a = pickle.load(file)"
   ]
  },
  {
   "cell_type": "code",
   "execution_count": null,
   "id": "43289522",
   "metadata": {},
   "outputs": [],
   "source": []
  }
 ],
 "metadata": {
  "kernelspec": {
   "display_name": "Python 3",
   "language": "python",
   "name": "python3"
  },
  "language_info": {
   "codemirror_mode": {
    "name": "ipython",
    "version": 3
   },
   "file_extension": ".py",
   "mimetype": "text/x-python",
   "name": "python",
   "nbconvert_exporter": "python",
   "pygments_lexer": "ipython3",
   "version": "3.7.11"
  }
 },
 "nbformat": 4,
 "nbformat_minor": 5
}
